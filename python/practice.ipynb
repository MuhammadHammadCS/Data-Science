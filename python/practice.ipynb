{
 "cells": [
  {
   "cell_type": "code",
   "execution_count": 8,
   "id": "b24d0e4d-08f5-4915-b602-37c12ecf39be",
   "metadata": {},
   "outputs": [],
   "source": [
    "code = 200"
   ]
  },
  {
   "cell_type": "code",
   "execution_count": 9,
   "id": "44ea2bde-1c31-4b1b-959b-934518e3de30",
   "metadata": {},
   "outputs": [
    {
     "name": "stdout",
     "output_type": "stream",
     "text": [
      "Response Ok\n",
      "End of Program\n"
     ]
    }
   ],
   "source": [
    "match code:\n",
    "    case 200:\n",
    "        print(\"Response Ok\")\n",
    "    case 400:\n",
    "        print(\"Bad Response\")\n",
    "    case 404:\n",
    "        print(\"Not found\")\n",
    "    case _:\n",
    "        print(\"Nothing Matched\")\n",
    "print(\"End of Program\")"
   ]
  },
  {
   "cell_type": "code",
   "execution_count": 10,
   "id": "c8306be4-69b4-46b1-884e-78ce251a6aee",
   "metadata": {},
   "outputs": [],
   "source": [
    "# 08_fstring"
   ]
  },
  {
   "cell_type": "code",
   "execution_count": 13,
   "id": "f9a8f290-0f69-4774-8f4f-cdf813d328f6",
   "metadata": {},
   "outputs": [
    {
     "name": "stdout",
     "output_type": "stream",
     "text": [
      "my name is Hammad and i am 21 years old\n"
     ]
    }
   ],
   "source": [
    "# using format()\n",
    "name = \"Hammad\"\n",
    "age = 21\n",
    "print(\"my name is {} and i am {} years old\".format(name,age))"
   ]
  },
  {
   "cell_type": "code",
   "execution_count": 16,
   "id": "3f468b2d-f707-4cdc-b256-bf3212235552",
   "metadata": {},
   "outputs": [
    {
     "name": "stdout",
     "output_type": "stream",
     "text": [
      "my name is Hammad and I am 21 years old\n"
     ]
    }
   ],
   "source": [
    "# python 3.6 easy formatting // f-string\n",
    "print(f\"my name is {name} and I am {age} years old\")"
   ]
  },
  {
   "cell_type": "code",
   "execution_count": 17,
   "id": "30f4bb86-f107-41ba-9911-d9818df78e50",
   "metadata": {},
   "outputs": [
    {
     "name": "stdout",
     "output_type": "stream",
     "text": [
      "Hammad    \n"
     ]
    }
   ],
   "source": [
    "print(f\"{'Hammad':<10}\")"
   ]
  },
  {
   "cell_type": "code",
   "execution_count": 18,
   "id": "8aa10bea-d289-4057-b0b0-e90db311e114",
   "metadata": {},
   "outputs": [
    {
     "name": "stdout",
     "output_type": "stream",
     "text": [
      "  Hammad  \n"
     ]
    }
   ],
   "source": [
    "print(f\"{'Hammad':^10}\")"
   ]
  },
  {
   "cell_type": "code",
   "execution_count": 19,
   "id": "9a721d99-9203-49f0-8151-f3784ea40b7c",
   "metadata": {},
   "outputs": [
    {
     "name": "stdout",
     "output_type": "stream",
     "text": [
      "    Hammad\n"
     ]
    }
   ],
   "source": [
    "print(f\"{'Hammad':>10}\")"
   ]
  },
  {
   "cell_type": "code",
   "execution_count": 23,
   "id": "000c832c-3fa0-4641-8c9e-b6a9c570e73b",
   "metadata": {},
   "outputs": [
    {
     "name": "stdout",
     "output_type": "stream",
     "text": [
      "The sum of 5 and 15 is 20\n"
     ]
    }
   ],
   "source": [
    "a = 5\n",
    "b = 15\n",
    "print(f\"The sum of {a} and {b} is {a + b}\")"
   ]
  },
  {
   "cell_type": "code",
   "execution_count": 24,
   "id": "84cac2b8-8275-49b2-838d-68d360609dfd",
   "metadata": {},
   "outputs": [],
   "source": [
    "# Loops in pyhton"
   ]
  },
  {
   "cell_type": "code",
   "execution_count": 25,
   "id": "929a3428-8f5d-405f-99ff-afaca63c0271",
   "metadata": {},
   "outputs": [],
   "source": [
    "l = [3,5,6,67]"
   ]
  },
  {
   "cell_type": "code",
   "execution_count": 26,
   "id": "b2e11c0e-f972-4bcd-835b-f87d4afcc49b",
   "metadata": {},
   "outputs": [
    {
     "name": "stdout",
     "output_type": "stream",
     "text": [
      "3\n",
      "5\n",
      "6\n",
      "67\n"
     ]
    }
   ],
   "source": [
    "for item in l:\n",
    "    print(item)"
   ]
  },
  {
   "cell_type": "code",
   "execution_count": 27,
   "id": "3227bacd-4bf2-4a61-81d6-c7b6147febc6",
   "metadata": {},
   "outputs": [
    {
     "name": "stdout",
     "output_type": "stream",
     "text": [
      "0\n",
      "1\n",
      "2\n",
      "3\n",
      "4\n",
      "5\n",
      "6\n",
      "7\n",
      "8\n",
      "9\n"
     ]
    }
   ],
   "source": [
    "for i in range(10):\n",
    "    print(i)"
   ]
  },
  {
   "cell_type": "code",
   "execution_count": 30,
   "id": "fa7fffe2-e277-46d7-8f5f-35046b46bc89",
   "metadata": {},
   "outputs": [
    {
     "name": "stdout",
     "output_type": "stream",
     "text": [
      "1\n",
      "2\n",
      "3\n",
      "4\n",
      "5\n",
      "6\n",
      "7\n",
      "8\n",
      "9\n",
      "10\n"
     ]
    }
   ],
   "source": [
    "for i in range(1,11):\n",
    "    print(i)"
   ]
  },
  {
   "cell_type": "code",
   "execution_count": 31,
   "id": "ccff27b2-54c2-4dec-ba18-eff7290192ca",
   "metadata": {},
   "outputs": [],
   "source": [
    "# While loop\n"
   ]
  },
  {
   "cell_type": "code",
   "execution_count": 36,
   "id": "300baeef-b708-486e-b562-f49973a2c04f",
   "metadata": {},
   "outputs": [
    {
     "name": "stdout",
     "output_type": "stream",
     "text": [
      "1\n",
      "2\n",
      "3\n",
      "4\n",
      "5\n",
      "6\n",
      "7\n",
      "8\n",
      "9\n",
      "10\n"
     ]
    }
   ],
   "source": [
    "count = 1\n",
    "while count < 11:\n",
    "    print(count)\n",
    "    count += 1"
   ]
  },
  {
   "cell_type": "code",
   "execution_count": 37,
   "id": "3d1200db-e170-4729-bfba-7268e7cc6cd3",
   "metadata": {},
   "outputs": [
    {
     "name": "stdout",
     "output_type": "stream",
     "text": [
      "Hello\n"
     ]
    }
   ],
   "source": [
    "for item in l:\n",
    "    pass\n",
    "\n",
    "print(\"Hello\")"
   ]
  },
  {
   "cell_type": "code",
   "execution_count": 39,
   "id": "8cfb6a06-754e-4b35-9f9d-489983479eca",
   "metadata": {},
   "outputs": [
    {
     "name": "stdout",
     "output_type": "stream",
     "text": [
      "apples\n"
     ]
    }
   ],
   "source": [
    "l = [\"apples\" , \"Banana\" , \"Tomatoes\"]\n",
    "for item in l:\n",
    "    if(item == \"Banana\"):\n",
    "        break\n",
    "    print(item)"
   ]
  },
  {
   "cell_type": "code",
   "execution_count": 40,
   "id": "b249f34e-5d4c-4a77-b95a-b02c9decdf2e",
   "metadata": {},
   "outputs": [
    {
     "name": "stdout",
     "output_type": "stream",
     "text": [
      "apples\n",
      "Tomatoes\n"
     ]
    }
   ],
   "source": [
    "l = [\"apples\" , \"Banana\" , \"Tomatoes\"]\n",
    "for item in l:\n",
    "    if(item == \"Banana\"):\n",
    "        continue\n",
    "    print(item)"
   ]
  },
  {
   "cell_type": "code",
   "execution_count": 8,
   "id": "399a6b4e-6b1e-4289-bede-24b76c0062a9",
   "metadata": {},
   "outputs": [],
   "source": [
    "# List and List method list are mutable means changes are made to the original list"
   ]
  },
  {
   "cell_type": "code",
   "execution_count": 9,
   "id": "dcef4a12-cb6b-43a4-96d6-eb987dcf6e95",
   "metadata": {},
   "outputs": [],
   "source": [
    "l = [3,5,23,3]"
   ]
  },
  {
   "cell_type": "code",
   "execution_count": 10,
   "id": "e573fd87-8b53-49b9-ada3-040d25d88b2b",
   "metadata": {},
   "outputs": [
    {
     "data": {
      "text/plain": [
       "3"
      ]
     },
     "execution_count": 10,
     "metadata": {},
     "output_type": "execute_result"
    }
   ],
   "source": [
    "l[0]"
   ]
  },
  {
   "cell_type": "code",
   "execution_count": 11,
   "id": "4cb45e43-4b5f-49bf-92c5-209ee4ed9f6a",
   "metadata": {},
   "outputs": [
    {
     "data": {
      "text/plain": [
       "5"
      ]
     },
     "execution_count": 11,
     "metadata": {},
     "output_type": "execute_result"
    }
   ],
   "source": [
    "l[1]"
   ]
  },
  {
   "cell_type": "code",
   "execution_count": 12,
   "id": "aaf9b275-9370-4168-a525-03ffba7c0f15",
   "metadata": {},
   "outputs": [],
   "source": [
    "l[0] = 4"
   ]
  },
  {
   "cell_type": "code",
   "execution_count": 13,
   "id": "9a4d7034-beb7-4c76-9570-e55bd8383f03",
   "metadata": {},
   "outputs": [
    {
     "data": {
      "text/plain": [
       "[4, 5, 23, 3]"
      ]
     },
     "execution_count": 13,
     "metadata": {},
     "output_type": "execute_result"
    }
   ],
   "source": [
    "l"
   ]
  },
  {
   "cell_type": "code",
   "execution_count": 14,
   "id": "5e60929e-5f94-4a5e-804c-1977d5e9abaf",
   "metadata": {},
   "outputs": [],
   "source": [
    "l.append(9)"
   ]
  },
  {
   "cell_type": "code",
   "execution_count": 15,
   "id": "03787c2b-1f25-44e4-b6d5-58f6bf2e55c5",
   "metadata": {},
   "outputs": [
    {
     "data": {
      "text/plain": [
       "[4, 5, 23, 3, 9]"
      ]
     },
     "execution_count": 15,
     "metadata": {},
     "output_type": "execute_result"
    }
   ],
   "source": [
    "l"
   ]
  },
  {
   "cell_type": "code",
   "execution_count": 16,
   "id": "60dcc6a0-11dd-4d9f-809d-cb21d4be0e7c",
   "metadata": {},
   "outputs": [],
   "source": [
    "l2 = [5,7]"
   ]
  },
  {
   "cell_type": "code",
   "execution_count": 17,
   "id": "39c09817-7f0c-4fde-95eb-8d860cf2cddc",
   "metadata": {},
   "outputs": [],
   "source": [
    "l.extend(l2)"
   ]
  },
  {
   "cell_type": "code",
   "execution_count": 18,
   "id": "0a4c9815-307d-4684-a875-12c838d68209",
   "metadata": {},
   "outputs": [
    {
     "data": {
      "text/plain": [
       "[4, 5, 23, 3, 9, 5, 7]"
      ]
     },
     "execution_count": 18,
     "metadata": {},
     "output_type": "execute_result"
    }
   ],
   "source": [
    "l"
   ]
  },
  {
   "cell_type": "code",
   "execution_count": 21,
   "id": "dcefc225-2f12-42ff-a416-85026e5124ad",
   "metadata": {},
   "outputs": [],
   "source": [
    "l.insert(1,200) # Insert 200 at index 1"
   ]
  },
  {
   "cell_type": "code",
   "execution_count": 22,
   "id": "179821ca-cb0b-43b2-a581-65b1e096a6a5",
   "metadata": {},
   "outputs": [
    {
     "data": {
      "text/plain": [
       "[4, 200, 200, 5, 23, 3, 9, 5, 7]"
      ]
     },
     "execution_count": 22,
     "metadata": {},
     "output_type": "execute_result"
    }
   ],
   "source": [
    "l"
   ]
  },
  {
   "cell_type": "code",
   "execution_count": 23,
   "id": "525644d9-0075-49c7-96d8-8725096c25c9",
   "metadata": {},
   "outputs": [
    {
     "data": {
      "text/plain": [
       "23"
      ]
     },
     "execution_count": 23,
     "metadata": {},
     "output_type": "execute_result"
    }
   ],
   "source": [
    "l.pop(4)"
   ]
  },
  {
   "cell_type": "code",
   "execution_count": 24,
   "id": "c4d5f03d-e22f-4db1-9190-0e6990ca1a8b",
   "metadata": {},
   "outputs": [],
   "source": [
    "number = l.pop(4)"
   ]
  },
  {
   "cell_type": "code",
   "execution_count": 25,
   "id": "ed59232c-2276-412d-9111-9d038a54bfd4",
   "metadata": {},
   "outputs": [
    {
     "data": {
      "text/plain": [
       "3"
      ]
     },
     "execution_count": 25,
     "metadata": {},
     "output_type": "execute_result"
    }
   ],
   "source": [
    "number"
   ]
  },
  {
   "cell_type": "code",
   "execution_count": 26,
   "id": "c0d723c1-a440-444b-ac8d-8a716c626f2c",
   "metadata": {},
   "outputs": [
    {
     "data": {
      "text/plain": [
       "[4, 200, 200, 5, 9, 5, 7]"
      ]
     },
     "execution_count": 26,
     "metadata": {},
     "output_type": "execute_result"
    }
   ],
   "source": [
    "l"
   ]
  },
  {
   "cell_type": "code",
   "execution_count": 27,
   "id": "7d12570f-cd1f-456e-9b3a-301d8da90c7c",
   "metadata": {},
   "outputs": [
    {
     "data": {
      "text/plain": [
       "0"
      ]
     },
     "execution_count": 27,
     "metadata": {},
     "output_type": "execute_result"
    }
   ],
   "source": [
    "l.index(4)"
   ]
  },
  {
   "cell_type": "code",
   "execution_count": 29,
   "id": "c2a2f78d-3b8b-48e8-ac04-a3c3fcf0c6f7",
   "metadata": {},
   "outputs": [
    {
     "data": {
      "text/plain": [
       "1"
      ]
     },
     "execution_count": 29,
     "metadata": {},
     "output_type": "execute_result"
    }
   ],
   "source": [
    "l.index(200)"
   ]
  },
  {
   "cell_type": "code",
   "execution_count": 30,
   "id": "8a2e885f-3c92-4d0e-bb71-a1b048503e0a",
   "metadata": {},
   "outputs": [
    {
     "data": {
      "text/plain": [
       "2"
      ]
     },
     "execution_count": 30,
     "metadata": {},
     "output_type": "execute_result"
    }
   ],
   "source": [
    "l.count(200)"
   ]
  },
  {
   "cell_type": "code",
   "execution_count": 31,
   "id": "6ee2dfa6-c8ce-41b6-af6f-c79404ebfbd4",
   "metadata": {},
   "outputs": [],
   "source": [
    "l.append(4)"
   ]
  },
  {
   "cell_type": "code",
   "execution_count": 32,
   "id": "cb2a760f-db9a-4fc8-aeb0-c6c650f52a9d",
   "metadata": {},
   "outputs": [
    {
     "data": {
      "text/plain": [
       "[4, 200, 200, 5, 9, 5, 7, 4]"
      ]
     },
     "execution_count": 32,
     "metadata": {},
     "output_type": "execute_result"
    }
   ],
   "source": [
    "l"
   ]
  },
  {
   "cell_type": "code",
   "execution_count": 33,
   "id": "b8a5aaf9-950c-4d84-8f35-0ac4c3d66e33",
   "metadata": {},
   "outputs": [
    {
     "data": {
      "text/plain": [
       "2"
      ]
     },
     "execution_count": 33,
     "metadata": {},
     "output_type": "execute_result"
    }
   ],
   "source": [
    "l.count(4)"
   ]
  },
  {
   "cell_type": "code",
   "execution_count": 34,
   "id": "a9f3b820-1063-4b57-baca-ca1002edaaeb",
   "metadata": {},
   "outputs": [],
   "source": [
    "l.sort()"
   ]
  },
  {
   "cell_type": "code",
   "execution_count": 35,
   "id": "fab5906e-248d-43a3-8d4d-01e73f88599e",
   "metadata": {},
   "outputs": [
    {
     "data": {
      "text/plain": [
       "[4, 4, 5, 5, 7, 9, 200, 200]"
      ]
     },
     "execution_count": 35,
     "metadata": {},
     "output_type": "execute_result"
    }
   ],
   "source": [
    "l"
   ]
  },
  {
   "cell_type": "code",
   "execution_count": 36,
   "id": "0f69f2c9-a9b6-4519-a48d-aae6f75839f1",
   "metadata": {},
   "outputs": [],
   "source": [
    "l.remove(200)"
   ]
  },
  {
   "cell_type": "code",
   "execution_count": 37,
   "id": "030bec1f-10c9-4caf-8c03-55c9fc399eee",
   "metadata": {},
   "outputs": [
    {
     "data": {
      "text/plain": [
       "[4, 4, 5, 5, 7, 9, 200]"
      ]
     },
     "execution_count": 37,
     "metadata": {},
     "output_type": "execute_result"
    }
   ],
   "source": [
    "l"
   ]
  },
  {
   "cell_type": "code",
   "execution_count": 38,
   "id": "19d2c10f-6f42-419d-b0d5-240fbdd57662",
   "metadata": {},
   "outputs": [],
   "source": [
    "newl = [2,6,1,21,6]"
   ]
  },
  {
   "cell_type": "code",
   "execution_count": 39,
   "id": "62294581-1a01-457e-9caa-c3011cf1ba76",
   "metadata": {},
   "outputs": [
    {
     "data": {
      "text/plain": [
       "[1, 2, 6, 6, 21]"
      ]
     },
     "execution_count": 39,
     "metadata": {},
     "output_type": "execute_result"
    }
   ],
   "source": [
    "sorted(newl)"
   ]
  },
  {
   "cell_type": "code",
   "execution_count": 40,
   "id": "477112f7-bab6-42f7-94ad-685f6d110472",
   "metadata": {},
   "outputs": [
    {
     "data": {
      "text/plain": [
       "[2, 6, 1, 21, 6]"
      ]
     },
     "execution_count": 40,
     "metadata": {},
     "output_type": "execute_result"
    }
   ],
   "source": [
    "newl"
   ]
  },
  {
   "cell_type": "code",
   "execution_count": 41,
   "id": "0da0277a-a4a4-4e16-9621-a70df9cf50b0",
   "metadata": {},
   "outputs": [],
   "source": [
    "y = [1, 2, True , False , [4,7]]"
   ]
  },
  {
   "cell_type": "code",
   "execution_count": 42,
   "id": "d8a503aa-d397-40ed-9dc3-b18eedc6e083",
   "metadata": {},
   "outputs": [
    {
     "data": {
      "text/plain": [
       "[1, 2, True, False, [4, 7]]"
      ]
     },
     "execution_count": 42,
     "metadata": {},
     "output_type": "execute_result"
    }
   ],
   "source": [
    "y"
   ]
  },
  {
   "cell_type": "code",
   "execution_count": 43,
   "id": "27cde529-42df-4286-ab8b-f3f7dfe2f227",
   "metadata": {},
   "outputs": [
    {
     "data": {
      "text/plain": [
       "[4, 7]"
      ]
     },
     "execution_count": 43,
     "metadata": {},
     "output_type": "execute_result"
    }
   ],
   "source": [
    "y[4]"
   ]
  },
  {
   "cell_type": "code",
   "execution_count": 44,
   "id": "27ef6a5d-417e-4f46-a53b-aae2c9474ba0",
   "metadata": {},
   "outputs": [
    {
     "data": {
      "text/plain": [
       "4"
      ]
     },
     "execution_count": 44,
     "metadata": {},
     "output_type": "execute_result"
    }
   ],
   "source": [
    "y[4][0]"
   ]
  },
  {
   "cell_type": "code",
   "execution_count": 45,
   "id": "c1d9e6e4-faca-4a5f-8eb4-9d72d1cbd666",
   "metadata": {},
   "outputs": [],
   "source": [
    "list1 = [4 , 32, 12]"
   ]
  },
  {
   "cell_type": "code",
   "execution_count": 46,
   "id": "a5bc1612-c9b5-401b-b2c1-156c7d625830",
   "metadata": {},
   "outputs": [],
   "source": [
    "list2 = [3 , 1 , 8]"
   ]
  },
  {
   "cell_type": "code",
   "execution_count": 47,
   "id": "fb1ce468-0934-46e2-b84d-5db55fa3d91c",
   "metadata": {},
   "outputs": [
    {
     "data": {
      "text/plain": [
       "[4, 32, 12, 3, 1, 8]"
      ]
     },
     "execution_count": 47,
     "metadata": {},
     "output_type": "execute_result"
    }
   ],
   "source": [
    "list1 + list2"
   ]
  },
  {
   "cell_type": "code",
   "execution_count": 48,
   "id": "91944440-de37-4324-abb2-dc752e89fa49",
   "metadata": {},
   "outputs": [
    {
     "data": {
      "text/plain": [
       "[4, 32, 12]"
      ]
     },
     "execution_count": 48,
     "metadata": {},
     "output_type": "execute_result"
    }
   ],
   "source": [
    "list1"
   ]
  },
  {
   "cell_type": "code",
   "execution_count": 49,
   "id": "3be76c83-e852-47d5-b04b-a4d83b1d39b5",
   "metadata": {},
   "outputs": [
    {
     "data": {
      "text/plain": [
       "[3, 1, 8]"
      ]
     },
     "execution_count": 49,
     "metadata": {},
     "output_type": "execute_result"
    }
   ],
   "source": [
    "list2"
   ]
  },
  {
   "cell_type": "code",
   "execution_count": 50,
   "id": "f3701858-0b29-4be1-9473-85ee0eed1914",
   "metadata": {},
   "outputs": [
    {
     "name": "stdout",
     "output_type": "stream",
     "text": [
      "Yes\n"
     ]
    }
   ],
   "source": [
    "if 3 in list2:\n",
    "    print(\"Yes\")"
   ]
  },
  {
   "cell_type": "code",
   "execution_count": 51,
   "id": "79c3eeb1-f2bc-4122-bb10-c7817930af8a",
   "metadata": {},
   "outputs": [
    {
     "data": {
      "text/plain": [
       "False"
      ]
     },
     "execution_count": 51,
     "metadata": {},
     "output_type": "execute_result"
    }
   ],
   "source": [
    "33 in list2"
   ]
  },
  {
   "cell_type": "code",
   "execution_count": 52,
   "id": "565dc3a4-b88f-4291-9941-f334d3a4d1a6",
   "metadata": {},
   "outputs": [
    {
     "data": {
      "text/plain": [
       "True"
      ]
     },
     "execution_count": 52,
     "metadata": {},
     "output_type": "execute_result"
    }
   ],
   "source": [
    "3 in list2"
   ]
  },
  {
   "cell_type": "code",
   "execution_count": 53,
   "id": "be316c8d-6b95-4c58-9ded-08f81ec714b5",
   "metadata": {},
   "outputs": [],
   "source": [
    "# Tuples and Tuple Methods (order immutable list) cannot be modified"
   ]
  },
  {
   "cell_type": "code",
   "execution_count": 54,
   "id": "e327caa3-df77-42aa-84ef-26d73841e2a3",
   "metadata": {},
   "outputs": [],
   "source": [
    "e = ()"
   ]
  },
  {
   "cell_type": "code",
   "execution_count": 55,
   "id": "d1e9a2fc-b167-410d-bb4a-7665ef50708c",
   "metadata": {},
   "outputs": [
    {
     "data": {
      "text/plain": [
       "()"
      ]
     },
     "execution_count": 55,
     "metadata": {},
     "output_type": "execute_result"
    }
   ],
   "source": [
    "e"
   ]
  },
  {
   "cell_type": "code",
   "execution_count": 56,
   "id": "af370cc8-5f62-450f-b3c8-f988455e155e",
   "metadata": {},
   "outputs": [
    {
     "data": {
      "text/plain": [
       "tuple"
      ]
     },
     "execution_count": 56,
     "metadata": {},
     "output_type": "execute_result"
    }
   ],
   "source": [
    "type(e)"
   ]
  },
  {
   "cell_type": "code",
   "execution_count": 57,
   "id": "9954bf8b-e4f5-4397-9db9-e70782430196",
   "metadata": {},
   "outputs": [],
   "source": [
    "l = []"
   ]
  },
  {
   "cell_type": "code",
   "execution_count": 58,
   "id": "90686034-6769-423a-a008-2bbc59543915",
   "metadata": {},
   "outputs": [
    {
     "data": {
      "text/plain": [
       "list"
      ]
     },
     "execution_count": 58,
     "metadata": {},
     "output_type": "execute_result"
    }
   ],
   "source": [
    "type(l)"
   ]
  },
  {
   "cell_type": "code",
   "execution_count": 59,
   "id": "28473a2d-ef8e-48c5-8dba-ffdd8d9f9f82",
   "metadata": {},
   "outputs": [],
   "source": [
    "t = (5, 64 , 23 ,23)"
   ]
  },
  {
   "cell_type": "code",
   "execution_count": 60,
   "id": "8ea9fabf-cbfd-48d8-a91d-1aa9cfb5f815",
   "metadata": {},
   "outputs": [
    {
     "data": {
      "text/plain": [
       "64"
      ]
     },
     "execution_count": 60,
     "metadata": {},
     "output_type": "execute_result"
    }
   ],
   "source": [
    "t[1]"
   ]
  },
  {
   "cell_type": "code",
   "execution_count": 62,
   "id": "822cb0c1-3199-4c94-978f-a830f30a9c2f",
   "metadata": {},
   "outputs": [
    {
     "data": {
      "text/plain": [
       "5"
      ]
     },
     "execution_count": 62,
     "metadata": {},
     "output_type": "execute_result"
    }
   ],
   "source": [
    "t[0]"
   ]
  },
  {
   "cell_type": "code",
   "execution_count": 63,
   "id": "b135fe62-4e6c-47f5-8576-6249800ba866",
   "metadata": {},
   "outputs": [],
   "source": [
    "# Set and set methods"
   ]
  },
  {
   "cell_type": "code",
   "execution_count": 64,
   "id": "b3a4a5f3-0980-4092-8b16-1cd8f5fe97e6",
   "metadata": {},
   "outputs": [],
   "source": [
    "s = {}"
   ]
  },
  {
   "cell_type": "code",
   "execution_count": 65,
   "id": "0c510ada-a2d3-4b55-9af1-9af84221b438",
   "metadata": {},
   "outputs": [
    {
     "data": {
      "text/plain": [
       "dict"
      ]
     },
     "execution_count": 65,
     "metadata": {},
     "output_type": "execute_result"
    }
   ],
   "source": [
    "type(s)"
   ]
  },
  {
   "cell_type": "code",
   "execution_count": 66,
   "id": "96102e4f-0031-4147-bd95-1e0935967162",
   "metadata": {},
   "outputs": [],
   "source": [
    "s = set()"
   ]
  },
  {
   "cell_type": "code",
   "execution_count": 67,
   "id": "1bdb681f-706e-4739-b465-7482c404b4f5",
   "metadata": {},
   "outputs": [
    {
     "data": {
      "text/plain": [
       "set"
      ]
     },
     "execution_count": 67,
     "metadata": {},
     "output_type": "execute_result"
    }
   ],
   "source": [
    "type(s)"
   ]
  },
  {
   "cell_type": "code",
   "execution_count": 68,
   "id": "9e02c0a1-ec49-4f88-8278-5f981017e1ab",
   "metadata": {},
   "outputs": [],
   "source": [
    "s = {4,5,6,7,8,4}"
   ]
  },
  {
   "cell_type": "code",
   "execution_count": 69,
   "id": "7c83a08e-b062-4cb0-881e-a71b21b5eb05",
   "metadata": {},
   "outputs": [
    {
     "data": {
      "text/plain": [
       "{4, 5, 6, 7, 8}"
      ]
     },
     "execution_count": 69,
     "metadata": {},
     "output_type": "execute_result"
    }
   ],
   "source": [
    "s"
   ]
  },
  {
   "cell_type": "code",
   "execution_count": 70,
   "id": "afcdafde-dae0-498a-ba94-4f6ca4da3518",
   "metadata": {},
   "outputs": [],
   "source": [
    "s.add(3)"
   ]
  },
  {
   "cell_type": "code",
   "execution_count": 71,
   "id": "15c0cb30-5c0c-41d3-921a-1a0ba2501796",
   "metadata": {},
   "outputs": [
    {
     "data": {
      "text/plain": [
       "{3, 4, 5, 6, 7, 8}"
      ]
     },
     "execution_count": 71,
     "metadata": {},
     "output_type": "execute_result"
    }
   ],
   "source": [
    "s"
   ]
  },
  {
   "cell_type": "code",
   "execution_count": 72,
   "id": "51ed3dcc-36ea-40cd-a5ed-26ef269bedd2",
   "metadata": {},
   "outputs": [],
   "source": [
    "s.update([3,4,5,9])"
   ]
  },
  {
   "cell_type": "code",
   "execution_count": 73,
   "id": "d846f59f-443d-47fa-b0c1-62a017b962ba",
   "metadata": {},
   "outputs": [
    {
     "data": {
      "text/plain": [
       "{3, 4, 5, 6, 7, 8, 9}"
      ]
     },
     "execution_count": 73,
     "metadata": {},
     "output_type": "execute_result"
    }
   ],
   "source": [
    "s"
   ]
  },
  {
   "cell_type": "code",
   "execution_count": 75,
   "id": "2cf6c328-f4da-40d8-9d10-66de3f0c245a",
   "metadata": {},
   "outputs": [
    {
     "data": {
      "text/plain": [
       "3"
      ]
     },
     "execution_count": 75,
     "metadata": {},
     "output_type": "execute_result"
    }
   ],
   "source": [
    "s.pop()"
   ]
  },
  {
   "cell_type": "code",
   "execution_count": 76,
   "id": "ee2e9b04-f254-4b44-b227-9da3c733b249",
   "metadata": {},
   "outputs": [
    {
     "data": {
      "text/plain": [
       "4"
      ]
     },
     "execution_count": 76,
     "metadata": {},
     "output_type": "execute_result"
    }
   ],
   "source": [
    "s.pop()"
   ]
  },
  {
   "cell_type": "code",
   "execution_count": 77,
   "id": "e44c86a9-f3fb-4685-a593-4535831cde1e",
   "metadata": {},
   "outputs": [
    {
     "data": {
      "text/plain": [
       "{5, 6, 7, 8, 9}"
      ]
     },
     "execution_count": 77,
     "metadata": {},
     "output_type": "execute_result"
    }
   ],
   "source": [
    "s"
   ]
  },
  {
   "cell_type": "code",
   "execution_count": 78,
   "id": "7243c754-d6dd-45d0-8868-a7e6a1fadeeb",
   "metadata": {},
   "outputs": [],
   "source": [
    "s.update([3,4])"
   ]
  },
  {
   "cell_type": "code",
   "execution_count": 79,
   "id": "2cb94a4e-92fc-4667-85c0-71b7824583f2",
   "metadata": {},
   "outputs": [
    {
     "data": {
      "text/plain": [
       "{3, 4, 5, 6, 7, 8, 9}"
      ]
     },
     "execution_count": 79,
     "metadata": {},
     "output_type": "execute_result"
    }
   ],
   "source": [
    "s"
   ]
  },
  {
   "cell_type": "code",
   "execution_count": 80,
   "id": "fad8dec3-661c-4137-b343-bb7e15f158a4",
   "metadata": {},
   "outputs": [],
   "source": [
    "# Dictionary & dictionary methods"
   ]
  },
  {
   "cell_type": "code",
   "execution_count": 81,
   "id": "9c52efde-23c4-4fab-86a3-16d002f34046",
   "metadata": {},
   "outputs": [],
   "source": [
    "d = {}"
   ]
  },
  {
   "cell_type": "code",
   "execution_count": 82,
   "id": "47403707-836a-47ca-874a-90c990451c7e",
   "metadata": {},
   "outputs": [
    {
     "data": {
      "text/plain": [
       "dict"
      ]
     },
     "execution_count": 82,
     "metadata": {},
     "output_type": "execute_result"
    }
   ],
   "source": [
    "type(d)"
   ]
  },
  {
   "cell_type": "code",
   "execution_count": 83,
   "id": "2c7acbd5-856c-4842-830a-ee5c5ebf35dc",
   "metadata": {},
   "outputs": [],
   "source": [
    "student = {\n",
    "    \"name\": \"Hammad\",\n",
    "    \"age\": 21,\n",
    "    \"Uni\": \"FAST\"\n",
    "}"
   ]
  },
  {
   "cell_type": "code",
   "execution_count": 84,
   "id": "70e3866c-80be-4c51-8e79-872066a9d62b",
   "metadata": {},
   "outputs": [
    {
     "data": {
      "text/plain": [
       "'Hammad'"
      ]
     },
     "execution_count": 84,
     "metadata": {},
     "output_type": "execute_result"
    }
   ],
   "source": [
    "student[\"name\"]"
   ]
  },
  {
   "cell_type": "code",
   "execution_count": 85,
   "id": "61106804-084d-489d-aa73-c76c2f24da89",
   "metadata": {},
   "outputs": [
    {
     "data": {
      "text/plain": [
       "'FAST'"
      ]
     },
     "execution_count": 85,
     "metadata": {},
     "output_type": "execute_result"
    }
   ],
   "source": [
    "student[\"Uni\"]"
   ]
  },
  {
   "cell_type": "code",
   "execution_count": 86,
   "id": "3bc593ee-e50a-452e-9ab7-abccf3ebdf1b",
   "metadata": {},
   "outputs": [
    {
     "data": {
      "text/plain": [
       "21"
      ]
     },
     "execution_count": 86,
     "metadata": {},
     "output_type": "execute_result"
    }
   ],
   "source": [
    "student.setdefault(\"age\",22)"
   ]
  },
  {
   "cell_type": "code",
   "execution_count": 87,
   "id": "5259bfde-f46f-4145-9a52-7a7ed7bebd77",
   "metadata": {},
   "outputs": [
    {
     "data": {
      "text/plain": [
       "{'name': 'Hammad', 'age': 21, 'Uni': 'FAST'}"
      ]
     },
     "execution_count": 87,
     "metadata": {},
     "output_type": "execute_result"
    }
   ],
   "source": [
    "student"
   ]
  },
  {
   "cell_type": "code",
   "execution_count": 88,
   "id": "0b160fda-1236-4187-afcf-ef49a22a0137",
   "metadata": {},
   "outputs": [
    {
     "data": {
      "text/plain": [
       "dict_keys(['name', 'age', 'Uni'])"
      ]
     },
     "execution_count": 88,
     "metadata": {},
     "output_type": "execute_result"
    }
   ],
   "source": [
    "student.keys()"
   ]
  },
  {
   "cell_type": "code",
   "execution_count": 93,
   "id": "7b693aec-8bf3-476e-b743-193884a11d46",
   "metadata": {},
   "outputs": [
    {
     "data": {
      "text/plain": [
       "dict_values(['Hammad', 21, 'FAST'])"
      ]
     },
     "execution_count": 93,
     "metadata": {},
     "output_type": "execute_result"
    }
   ],
   "source": [
    "student.values()"
   ]
  },
  {
   "cell_type": "code",
   "execution_count": null,
   "id": "6dfd8d20-f992-4905-b9de-9f7976248976",
   "metadata": {},
   "outputs": [],
   "source": []
  }
 ],
 "metadata": {
  "kernelspec": {
   "display_name": "Python [conda env:base] *",
   "language": "python",
   "name": "conda-base-py"
  },
  "language_info": {
   "codemirror_mode": {
    "name": "ipython",
    "version": 3
   },
   "file_extension": ".py",
   "mimetype": "text/x-python",
   "name": "python",
   "nbconvert_exporter": "python",
   "pygments_lexer": "ipython3",
   "version": "3.13.5"
  }
 },
 "nbformat": 4,
 "nbformat_minor": 5
}
