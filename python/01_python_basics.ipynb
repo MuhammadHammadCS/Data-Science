{
 "cells": [
  {
   "cell_type": "code",
   "execution_count": 6,
   "id": "17f5b685-0b78-44f6-82ad-1b343f9d9ee0",
   "metadata": {},
   "outputs": [],
   "source": [
    "a = 5"
   ]
  },
  {
   "cell_type": "code",
   "execution_count": 5,
   "id": "00555fb3-ab52-493a-b1f2-4f32ac53ccc7",
   "metadata": {},
   "outputs": [],
   "source": [
    "b = 32"
   ]
  },
  {
   "cell_type": "code",
   "execution_count": 3,
   "id": "18df47f3-36eb-454b-81c9-af2a6da9a781",
   "metadata": {},
   "outputs": [
    {
     "data": {
      "text/plain": [
       "37"
      ]
     },
     "execution_count": 3,
     "metadata": {},
     "output_type": "execute_result"
    }
   ],
   "source": [
    "a + b"
   ]
  },
  {
   "cell_type": "code",
   "execution_count": 3,
   "id": "8b991adb-a1ad-47bd-946e-bf81f9209b82",
   "metadata": {},
   "outputs": [],
   "source": [
    "name = \"Hammad\""
   ]
  },
  {
   "cell_type": "code",
   "execution_count": 5,
   "id": "1889eee2-5a4d-4cdb-88e8-b240bf3e3571",
   "metadata": {},
   "outputs": [
    {
     "name": "stdout",
     "output_type": "stream",
     "text": [
      "Hello World!\n"
     ]
    }
   ],
   "source": [
    "print(\"Hello World!\")"
   ]
  },
  {
   "cell_type": "code",
   "execution_count": 6,
   "id": "b833aee5-98b6-42bb-9e87-6eac35b05e4f",
   "metadata": {},
   "outputs": [],
   "source": [
    "# This is a comment"
   ]
  },
  {
   "cell_type": "code",
   "execution_count": 7,
   "id": "3a36d27b-8c9d-4c22-b70c-5dd4434c8427",
   "metadata": {},
   "outputs": [
    {
     "name": "stdout",
     "output_type": "stream",
     "text": [
      "<class 'int'>\n"
     ]
    }
   ],
   "source": [
    "print(type(a))"
   ]
  },
  {
   "cell_type": "code",
   "execution_count": 9,
   "id": "02d23c59-908c-4ac5-a198-8268575cdb93",
   "metadata": {},
   "outputs": [
    {
     "name": "stdout",
     "output_type": "stream",
     "text": [
      "<class 'str'>\n"
     ]
    }
   ],
   "source": [
    "print(type(name))"
   ]
  },
  {
   "cell_type": "code",
   "execution_count": 5,
   "id": "9f730375-f358-493d-a479-aaa718c367dc",
   "metadata": {},
   "outputs": [
    {
     "data": {
      "text/plain": [
       "str"
      ]
     },
     "execution_count": 5,
     "metadata": {},
     "output_type": "execute_result"
    }
   ],
   "source": [
    "type(name)"
   ]
  },
  {
   "cell_type": "code",
   "execution_count": 6,
   "id": "3fe01072-2413-4006-a6c3-833d3a327f0b",
   "metadata": {},
   "outputs": [],
   "source": [
    "a = \"4566\""
   ]
  },
  {
   "cell_type": "code",
   "execution_count": 7,
   "id": "563806ce-50f3-449c-a370-1cee0c8f9c50",
   "metadata": {},
   "outputs": [],
   "source": [
    "b = \"3467\""
   ]
  },
  {
   "cell_type": "code",
   "execution_count": 9,
   "id": "f6ad1422-e5ee-4365-b470-5f35dacbbd53",
   "metadata": {},
   "outputs": [
    {
     "name": "stdout",
     "output_type": "stream",
     "text": [
      "45663467\n"
     ]
    }
   ],
   "source": [
    "print(a+b) # string concatenate"
   ]
  },
  {
   "cell_type": "code",
   "execution_count": 10,
   "id": "63681b51-b2f9-4542-9657-9b930bd3ae60",
   "metadata": {},
   "outputs": [
    {
     "data": {
      "text/plain": [
       "8033"
      ]
     },
     "execution_count": 10,
     "metadata": {},
     "output_type": "execute_result"
    }
   ],
   "source": [
    "int(a) + int(b) #typecasting"
   ]
  },
  {
   "cell_type": "code",
   "execution_count": null,
   "id": "b662c354-404c-41c4-8891-0cee92cad554",
   "metadata": {},
   "outputs": [],
   "source": []
  }
 ],
 "metadata": {
  "kernelspec": {
   "display_name": "Python [conda env:base] *",
   "language": "python",
   "name": "conda-base-py"
  },
  "language_info": {
   "codemirror_mode": {
    "name": "ipython",
    "version": 3
   },
   "file_extension": ".py",
   "mimetype": "text/x-python",
   "name": "python",
   "nbconvert_exporter": "python",
   "pygments_lexer": "ipython3",
   "version": "3.13.5"
  }
 },
 "nbformat": 4,
 "nbformat_minor": 5
}
